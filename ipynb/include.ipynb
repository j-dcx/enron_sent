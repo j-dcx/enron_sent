{
 "cells": [
  {
   "cell_type": "code",
   "execution_count": null,
   "metadata": {
    "id": "VZ7oGNX4SguI"
   },
   "outputs": [],
   "source": [
    "#!python -m spacy download en_core_web_sm -q\n",
    "#!python -m spacy download fi_core_news_lg -q\n",
    "#!python -m spacy download sv_core_news_lg -q\n",
    "#!python -m spacy download nb_core_news_lg -q\n",
    "#!python -m spacy download de_core_news_lg -q"
   ]
  },
  {
   "cell_type": "code",
   "execution_count": 12,
   "metadata": {
    "executionInfo": {
     "elapsed": 557,
     "status": "ok",
     "timestamp": 1666570387740,
     "user": {
      "displayName": "Jānis Ducens",
      "userId": "07163689454887064407"
     },
     "user_tz": -180
    },
    "id": "xWTowodCNdsr"
   },
   "outputs": [],
   "source": [
    "copy_langs = ['fi','sv','no','de']\n",
    "\n",
    "spacy_paths = {'en':'/spacy/en_core_web_sm-3.4.0',\n",
    "            'fi':'/spacy/fi_core_news_lg-3.4.0',\n",
    "            'sv':'/spacy/sv_core_news_lg-3.4.0',\n",
    "            'no':'/spacy/nb_core_news_lg-3.4.0',\n",
    "            'de':'/spacy/de_core_news_lg-3.4.0'}\n",
    "\n",
    "spacy_libraries = {'en':'en_core_web_sm',\n",
    "                   'fi':'fi_core_news_lg',\n",
    "                   'en':'sv_core_news_lg',\n",
    "                   'no':'nb_core_news_lg',\n",
    "                   'de':'de_core_news_lg'}\n",
    "\n",
    "stopwords_langs = {'en':'english',\n",
    "                   'fi':'finnish',\n",
    "                   'sv':'swedish',\n",
    "                   'no':'norwegian',\n",
    "                   'de':'german'}"
   ]
  }
 ],
 "metadata": {
  "colab": {
   "authorship_tag": "ABX9TyPpDDjayAS9rLPZw3jDUI9D",
   "collapsed_sections": [],
   "provenance": []
  },
  "kernelspec": {
   "display_name": "Python 3 (ipykernel)",
   "language": "python",
   "name": "python3"
  },
  "language_info": {
   "codemirror_mode": {
    "name": "ipython",
    "version": 3
   },
   "file_extension": ".py",
   "mimetype": "text/x-python",
   "name": "python",
   "nbconvert_exporter": "python",
   "pygments_lexer": "ipython3",
   "version": "3.9.12"
  }
 },
 "nbformat": 4,
 "nbformat_minor": 1
}
